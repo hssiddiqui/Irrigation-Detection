{
  "cells": [
    {
      "cell_type": "code",
      "execution_count": null,
      "metadata": {
        "id": "9Ll3cxjbC2Fk"
      },
      "outputs": [],
      "source": [
        "## Imports\n",
        "from google.colab import auth\n",
        "from google.cloud import storage\n",
        "import numpy as np\n",
        "from scipy.interpolate import interp1d\n",
        "from scipy.signal import savgol_filter\n",
        "from tqdm import tqdm\n",
        "import pandas as pd\n",
        "from copy import copy\n",
        "import time\n",
        "from glob import glob\n",
        "import os\n",
        "\n",
        "# Install and import rasterio\n",
        "!pip install rasterio==1.3.3\n",
        "import rasterio"
      ]
    },
    {
      "cell_type": "code",
      "execution_count": null,
      "metadata": {
        "id": "gE26e4lGanEF"
      },
      "outputs": [],
      "source": [
        "# Authenticate Google account\n",
        "auth.authenticate_user()"
      ]
    },
    {
      "cell_type": "markdown",
      "metadata": {
        "id": "tRK6zoen9VN2"
      },
      "source": [
        "#### Collect S2 raw imagery for interpolation and smoothing\n"
      ]
    },
    {
      "cell_type": "code",
      "execution_count": null,
      "metadata": {
        "id": "5_unvIBeEWKk"
      },
      "outputs": [],
      "source": [
        "## Load raw image filenames\n",
        "\n",
        "# Specify bucket name\n",
        "bucket_name = 'gee_irrigation_detection'\n",
        "region = 'Nigeria29'\n",
        "\n",
        "# Initialize client and find folders in bucket\n",
        "storage_client = storage.Client()\n",
        "blobs = storage_client.list_blobs(bucket_name,\n",
        "                        prefix=f'raw_imagery/imagery_for_inference/{region}')\n",
        "\n",
        "# Can change this line if you want to take a subset of images\n",
        "raw_images = [blob.name for blob in blobs if '.tif' in blob.name]"
      ]
    },
    {
      "cell_type": "code",
      "execution_count": null,
      "metadata": {
        "id": "4cbMqXTyc1-C"
      },
      "outputs": [],
      "source": [
        "# raw_images=raw_images[25:29]"
      ]
    },
    {
      "cell_type": "code",
      "execution_count": null,
      "metadata": {
        "id": "N3pkzEMwCSCM"
      },
      "outputs": [],
      "source": [
        "## Define functions for processing S2 images for prediction\n",
        "\n",
        "\n",
        "def temporal_interp_and_smoothing(imagery_stack):\n",
        "\n",
        "    # Convert to float32\n",
        "    imagery_stack = imagery_stack.astype(np.float32)\n",
        "\n",
        "    # Pad imagery for interpolation\n",
        "    imagery_stack = np.concatenate([imagery_stack[-1][None, ...], imagery_stack,\n",
        "                                        imagery_stack[0][None, ...]], axis=0)\n",
        "    # Transpose\n",
        "    imagery_stack = imagery_stack.transpose(1,2,0)\n",
        "\n",
        "    # Reshape and convert to DF\n",
        "    df = pd.DataFrame(imagery_stack.reshape(imagery_stack.shape[0]*\\\n",
        "                                            imagery_stack.shape[1],\n",
        "                                            imagery_stack.shape[2]))\n",
        "\n",
        "    # Change 0s to NaNs for interpolation\n",
        "    df = df.replace(0, np.nan)\n",
        "\n",
        "    # Interpolate. Will leave any all-NaN row as is\n",
        "    df = df.interpolate(method='linear', axis=1)\n",
        "\n",
        "    # Extract original timeseries\n",
        "    interpolated_ts = df.iloc[:, 1:-1]\n",
        "\n",
        "    # Smooth\n",
        "    smoothed_ts = savgol_filter(interpolated_ts,\n",
        "                                window_length=5,\n",
        "                                polyorder=3,\n",
        "                                axis=1)\n",
        "\n",
        "\n",
        "    # Fill all remaining NaNs with zeros\n",
        "    smoothed_ts = np.nan_to_num(smoothed_ts, nan=0)\n",
        "\n",
        "    # Clip\n",
        "    smoothed_ts = np.clip(smoothed_ts, 0, 1)\n",
        "\n",
        "    # Reshape\n",
        "    smoothed_ts = smoothed_ts.reshape(imagery_stack.shape[0],\n",
        "                                      imagery_stack.shape[1],\n",
        "                                      smoothed_ts.shape[1])\n",
        "\n",
        "    # Transpose\n",
        "    smoothed_ts = smoothed_ts.transpose(2,0,1)\n",
        "\n",
        "    # Returns array of size (36, window_height, window_width)\n",
        "    return smoothed_ts"
      ]
    },
    {
      "cell_type": "code",
      "execution_count": null,
      "metadata": {
        "colab": {
          "background_save": true
        },
        "id": "7xZaa_AKCjJ7"
      },
      "outputs": [],
      "source": [
        "# Define out directory\n",
        "out_dir = f'smoothed_imagery/imagery_for_inference/{region}'\n",
        "\n",
        "# Iterate through S2 imagery\n",
        "for image in raw_images:\n",
        "    print(f'Total number of images for smoothing + interpolation: {len(raw_images)}')\n",
        "    image_uri = f'gs://{bucket_name}/{image}'\n",
        "    print(f'Smoothing and interpolating image: {image_uri}')\n",
        "    with rasterio.open(image_uri, 'r', driver='GTiff') as src:\n",
        "\n",
        "        # Load profile and compute total number of windowed reads\n",
        "        profile = src.profile\n",
        "        total_windows = np.ceil(profile['width']/profile['blockxsize']) * \\\n",
        "                        np.ceil(profile['height']/profile['blockysize'])\n",
        "\n",
        "        # Define outfile name and profile\n",
        "        out_profile = src.profile.copy()\n",
        "        out_profile['dtype'] = 'float32'\n",
        "\n",
        "        # Create outdirectory if it doesnt exist\n",
        "        os.makedirs(out_dir, exist_ok=True)\n",
        "        out_name = f'{out_dir}/{image.split(\"/\")[-1]}'\n",
        "\n",
        "        # Open outfile\n",
        "        with rasterio.open(out_name, 'w+', **out_profile) as dest:\n",
        "\n",
        "            # Iterate through windowed reads\n",
        "            for ji, window in tqdm(src.block_windows(1), total=total_windows):\n",
        "                image_window = src.read(window=window)\n",
        "\n",
        "                # Smooth timeseries\n",
        "                smoothed_ts = temporal_interp_and_smoothing(image_window)\n",
        "\n",
        "                ## Write out\n",
        "                dest.write(smoothed_ts, window=window)"
      ]
    },
    {
      "cell_type": "code",
      "execution_count": null,
      "metadata": {
        "id": "jveoUbIGkFse"
      },
      "outputs": [],
      "source": [
        "## Export to GCP\n",
        "\n",
        "# Define export function\n",
        "def upload_blob(bucket_name, source_file_name, destination_blob_name):\n",
        "    \"\"\"Uploads a file to the bucket.\"\"\"\n",
        "    storage_client = storage.Client()\n",
        "    bucket = storage_client.get_bucket(bucket_name)\n",
        "    blob = bucket.blob(destination_blob_name)\n",
        "\n",
        "    blob.upload_from_filename(source_file_name)\n",
        "\n",
        "    print('File {} uploaded to {}.'.format(\n",
        "        source_file_name,\n",
        "        destination_blob_name))\n",
        "\n",
        "files_to_export = glob(f\"{out_dir}/*.tif\")\n",
        "\n",
        "for file_name in files_to_export:\n",
        "    upload_blob(bucket_name, file_name, file_name)"
      ]
    },
    {
      "cell_type": "code",
      "execution_count": null,
      "metadata": {
        "id": "x2Io8fZkSaxk"
      },
      "outputs": [],
      "source": []
    }
  ],
  "metadata": {
    "colab": {
      "provenance": []
    },
    "kernelspec": {
      "display_name": "Python 3",
      "name": "python3"
    },
    "language_info": {
      "name": "python"
    }
  },
  "nbformat": 4,
  "nbformat_minor": 0
}