{
  "cells": [
    {
      "cell_type": "code",
      "execution_count": null,
      "metadata": {
        "id": "9Ll3cxjbC2Fk"
      },
      "outputs": [],
      "source": [
        "## Imports\n",
        "import ee\n",
        "from google.colab import auth\n",
        "import tensorflow as tf\n",
        "import folium\n",
        "from google.cloud import storage\n",
        "from tqdm import tqdm\n",
        "import pandas as pd\n",
        "from copy import copy\n",
        "import time\n",
        "from glob import glob\n",
        "import matplotlib.pyplot as plt\n",
        "import numpy as np\n",
        "from shapely.geometry import box\n",
        "import json\n",
        "\n",
        "## Install and import geopandas\n",
        "!pip install geopandas\n",
        "import geopandas as gpd"
      ]
    },
    {
      "cell_type": "code",
      "execution_count": null,
      "metadata": {
        "id": "gE26e4lGanEF"
      },
      "outputs": [],
      "source": [
        "## Authentication cell\n",
        "\n",
        "# Authenticate Google account\n",
        "auth.authenticate_user()\n",
        "\n",
        "# # Trigger the authentication flow.\n",
        "# ee.Authenticate()\n",
        "\n",
        "## Another way to authenticate: go to https://console.cloud.google.com/iam-admin/serviceaccounts/details/\n",
        "## add another key, download and upload the JSON file, then point to it below in ee.ServiceAccountCredentials,\n",
        "\n",
        "credential_str = ' '\n",
        "service_account = ' '\n",
        "credentials = ee.ServiceAccountCredentials(service_account, credential_str)\n",
        "ee.Initialize(credentials)\n",
        "\n",
        "# Define bucket\n",
        "bucket_name = ' '\n",
        "\n",
        "# Define UTM CRS\n",
        "utm_crs = 'EPSG:4326'"
      ]
    },
    {
      "cell_type": "markdown",
      "metadata": {
        "id": "Qwwd6dCkA_K4"
      },
      "source": [
        "# Prepare Imagery"
      ]
    },
    {
      "cell_type": "code",
      "execution_count": null,
      "metadata": {
        "id": "nskHU1ESD4oI"
      },
      "outputs": [],
      "source": [
        "geometry = ee.FeatureCollection(\"FAO/GAUL/2015/level0\") \\\n",
        "              .filter(ee.Filter.eq('ADM0_NAME','Nigeria'))\n",
        "\n",
        "\n",
        "imageCollection = ee.ImageCollection('COPERNICUS/S2_SR').filterBounds(geometry)"
      ]
    },
    {
      "cell_type": "code",
      "execution_count": null,
      "metadata": {
        "id": "aa78vCGl6orf"
      },
      "outputs": [],
      "source": [
        "#Sentinel Cloud Masking Function\n",
        "def maskCloudAndShadowsSR(image):\n",
        "  cloudProb = image.select('MSK_CLDPRB')\n",
        "  snowProb = image.select('MSK_SNWPRB')\n",
        "  cloud = cloudProb.lt(5)\n",
        "  snow = snowProb.lt(5)\n",
        "  scl = image.select('SCL')\n",
        "  shadow = scl.eq(3); # 3 = cloud shadow\n",
        "  cirrus = scl.eq(10); # 10 = cirrus\n",
        "  # Cloud probability less than 5% or cloud shadow classification\n",
        "  mask = (cloud.And(snow)).And(cirrus.neq(1)).And(shadow.neq(1))\n",
        "  return image.updateMask(mask) \\\n",
        "      .select(\"B.*\") \\\n",
        "      .copyProperties(image, [\"system:time_start\"])"
      ]
    },
    {
      "cell_type": "code",
      "execution_count": null,
      "metadata": {
        "id": "-JdaT0VL8G2K"
      },
      "outputs": [],
      "source": [
        "# create list of size n for number of desired scenes\n",
        "# 36 scenes per year: 10 days per scene\n",
        "dayCount = ee.List.sequence(0, 363, 10.1)\n",
        "\n",
        "def func_floor(x):\n",
        "  return ee.Number(x).floor()\n",
        "\n",
        "dayCount = dayCount.map(func_floor)\n",
        "\n",
        "# run through the image collection and generate monthly median images\n",
        "\n",
        "def func_composite(m):\n",
        "  #set start date\n",
        "\n",
        "  startMonth = ee.Number(1)\n",
        "  startYear = ee.Number(2023)\n",
        "  startDay = ee.Number(1)\n",
        "\n",
        "  startDate = ee.Date.fromYMD(startYear, startMonth, startDay).advance(m, 'day')\n",
        "  #set end date to 10 days after start date\n",
        "  endDate = startDate.advance(10, 'day')\n",
        "  #filter collection to images between start and end date\n",
        "  filtered = imageCollection.filterDate(startDate, endDate)\n",
        "\n",
        "  # mask for clouds and then take the monthly median composite\n",
        "  composite = filtered.map(maskCloudAndShadowsSR).median()\n",
        "  return composite \\\n",
        "      .set('month', startDate) \\\n",
        "      .set('system:time_start', startDate.millis())\n",
        "\n",
        "composites = ee.ImageCollection.fromImages(dayCount.map(func_composite))"
      ]
    },
    {
      "cell_type": "code",
      "execution_count": null,
      "metadata": {
        "id": "Kv4UQNiN8Yqz"
      },
      "outputs": [],
      "source": [
        "#Add EVI band to each image in the collection\n",
        "def addEVI(image):\n",
        "\n",
        "  image = image.float()\n",
        "  evi = image.expression('2.5 * ((NIR - RED) / (1 + NIR + 6 * RED - 7.5 * BLUE))',\n",
        "    {'NIR': image.select('B8').divide(10000),\n",
        "     'RED': image.select('B4').divide(10000),\n",
        "     'BLUE': image.select('B2').divide(10000)})\n",
        "  return image.addBands(evi)"
      ]
    },
    {
      "cell_type": "code",
      "execution_count": null,
      "metadata": {
        "id": "8wv7wCyr8gvP"
      },
      "outputs": [],
      "source": [
        "#rename EVI band\n",
        "s2EVI = composites.map(addEVI);\n",
        "s2EVI = s2EVI.select(['constant'],['EVI'])\n",
        "composite = s2EVI.select('EVI').toBands().unmask(ee.Image.constant(0)).clip(geometry)\n"
      ]
    },
    {
      "cell_type": "markdown",
      "metadata": {
        "id": "_qRU5tAIB-Ma"
      },
      "source": [
        "#### Load geometry for export\n",
        "\n",
        "This will either be one large polygon that will be broken up into smaller components for large-scale imagery generation (inference), or it will be a series of training polygons collected via hand."
      ]
    },
    {
      "cell_type": "code",
      "execution_count": null,
      "metadata": {
        "id": "pet0zhvRAkMi"
      },
      "outputs": [],
      "source": [
        "# Define one booleans to govern whether s2 imagery should be generated over a\n",
        "# inference AOI, or for polygons collected for training. If the polygons are for\n",
        "# training, define another boolean for whether the labels contain irrigation.\n",
        "import shapely\n",
        "\n",
        "geom_for_inference = True\n",
        "irrigated_labels = False\n",
        "\n",
        "\n",
        "def get_squares_from_aoi(aoi, side_length=0.25):\n",
        "    \"\"\"\n",
        "    Divide a AOI (Shapely MultiPolygon) into squares of equal area.\n",
        "    AOI must be in EPSG:4326 crs.\n",
        "\n",
        "    1 degree = 111km\n",
        "    0.25 degree = 25km = 25000m = 2500 s2 pixels\n",
        "\n",
        "    `side_length` : required side of square\n",
        "    \"\"\"\n",
        "    rect_coords = np.array(aoi.boundary.coords.xy)\n",
        "    y_list = rect_coords[1]\n",
        "    x_list = rect_coords[0]\n",
        "    y1 = min(y_list)\n",
        "    y2 = max(y_list)\n",
        "    x1 = min(x_list)\n",
        "    x2 = max(x_list)\n",
        "    width = x2 - x1\n",
        "    height = y2 - y1\n",
        "\n",
        "\n",
        "    xcells = int(np.round(width / side_length))\n",
        "    ycells = int(np.round(height / side_length))\n",
        "\n",
        "    geom_list = []\n",
        "    ee_geom_list = []\n",
        "\n",
        "    for x in range(xcells):\n",
        "        for y in range(ycells):\n",
        "            ee_cell =  ee.Geometry.Rectangle(\n",
        "                    x*side_length + x1,\n",
        "                    y*side_length + y1,\n",
        "                    (x+1)*side_length + x1,\n",
        "                    (y+1)*side_length + y1\n",
        "            )\n",
        "\n",
        "            cell = box(x*side_length + x1,\n",
        "                       y*side_length + y1,\n",
        "                       (x+1)*side_length + x1,\n",
        "                       (y+1)*side_length + y1)\n",
        "\n",
        "            ee_geom_list.append(ee_cell)\n",
        "            geom_list.append(cell)\n",
        "\n",
        "    centroids = [i.centroid for i in geom_list]\n",
        "\n",
        "    gdf_dict = {'id':range(len(geom_list)),\n",
        "                'side_length_deg': side_length,\n",
        "                'centroids': centroids,\n",
        "                'ee_geometry': ee_geom_list,\n",
        "                'geometry':geom_list}\n",
        "    gdf = gpd.GeoDataFrame(gdf_dict, crs='EPSG:4326')\n",
        "\n",
        "    return gdf\n",
        "\n",
        "\n",
        "if geom_for_inference:\n",
        "    geometry_filename = f'gs://{bucket_name}/shapefiles/Zambiabb2.geojson'\n",
        "    image_save_prefix = f'raw_imagery/imagery_for_inference/Zambia2'\n",
        "\n",
        "    full_geom_gdf = gpd.read_file(geometry_filename).explode(index_parts=True)\n",
        "\n",
        "    aoi = full_geom_gdf['geometry'].iloc[0]\n",
        "    gdf = get_squares_from_aoi(aoi)\n",
        "    gdf = gdf.to_crs(utm_crs)\n",
        "\n",
        "\n",
        "else:\n",
        "    if irrigated_labels:\n",
        "        irrig_str = 'irrig'\n",
        "    else:\n",
        "        irrig_str = 'noirrig'\n",
        "\n",
        "    # geometry_filename = f'gs://gee_irrigation_detection/shapefiles/tana_10k_{irrig_str}_2020.geojson'\n",
        "    # image_save_prefix = f'raw_imagery/imagery_for_labels/tana_10k/{irrig_str}'\n",
        "\n",
        "    geometry_filename = f'gs://gee_irrigation_detection/shapefiles/BF_{irrig_str}_HS.geojson'\n",
        "    image_save_prefix = f'raw_imagery/imagery_for_labels/BF/{irrig_str}'\n",
        "\n",
        "    gdf = gpd.read_file(geometry_filename)\n",
        "    centroids = [i.centroid for i in gdf['geometry']]\n",
        "    gdf['centroids'] = centroids\n",
        "\n",
        "    # Extract geometries and convert to ee.Geometry format\n",
        "    geom_json_list = [shapely.geometry.mapping(i) for i in\n",
        "                      gdf['geometry']]\n",
        "    print(geom_json_list)\n",
        "    ee_geom_list = [ee.Geometry.Polygon(i[\"coordinates\"]) for i in geom_json_list]\n",
        "    gdf['ee_geometry'] = ee_geom_list\n",
        "\n",
        "    gdf = gdf.to_crs(utm_crs)\n",
        "    gdf['id'] = range(len(gdf))"
      ]
    },
    {
      "cell_type": "code",
      "execution_count": null,
      "metadata": {
        "id": "O-fVT3RG7Jt8"
      },
      "outputs": [],
      "source": [
        "print(len(gdf))"
      ]
    },
    {
      "cell_type": "code",
      "execution_count": null,
      "metadata": {
        "id": "NPkhqZ6QyhJW"
      },
      "outputs": [],
      "source": [
        "  ## Iterate through the geometries for uploading S2 composites\n",
        "\n",
        "\n",
        "## Need to do first 3\n",
        "for ix in tqdm(range(4,25)): ## Up to len(gdf)\n",
        "\n",
        "\n",
        "    id = gdf['id'].iloc[ix]\n",
        "    x_c = np.round(gdf['centroids'].iloc[ix].x, decimals=3)\n",
        "    y_c = np.round(gdf['centroids'].iloc[ix].x, decimals=3)\n",
        "    export_geometry = gdf['ee_geometry'].iloc[ix].transform(utm_crs, maxError=3)\n",
        "\n",
        "    print(f'{image_save_prefix}/s2_timeseries_id_{id}_x_{x_c}_y_{y_c}')\n",
        "\n",
        "    # # Setup the task.\n",
        "    image_task = ee.batch.Export.image.toCloudStorage(\n",
        "    image=composite,\n",
        "    description='imageToCloudExample',\n",
        "    fileNamePrefix=f'{image_save_prefix}/s2_timeseries_id_{id}_x_{x_c}_y_{y_c}',\n",
        "    bucket=bucket_name,\n",
        "    scale=10,\n",
        "    # crs=utm_crs,\n",
        "    region=export_geometry,\n",
        "    fileFormat='GeoTIFF',\n",
        "    formatOptions= {\n",
        "        'cloudOptimized': True,\n",
        "        }\n",
        "    )\n",
        "    ## Start task\n",
        "    image_task.start()\n",
        "\n",
        "    # Monitor the task.\n",
        "    while image_task.status()['state'] in ['READY', 'RUNNING']:\n",
        "        print(image_task.status())\n",
        "        time.sleep(10)\n",
        "    else:\n",
        "        print(image_task.status())\n"
      ]
    },
    {
      "cell_type": "code",
      "execution_count": null,
      "metadata": {
        "id": "jSbtgeXX2h3e"
      },
      "outputs": [],
      "source": [
        "## Not sure how to cancel operations\n",
        "# ee.data.listOperations()\n",
        "# ee.data.cancelOperation('projects/earthengine-legacy/operations/RFES7VXEEFBYDF33E4CNGMRS')"
      ]
    }
  ],
  "metadata": {
    "colab": {
      "provenance": []
    },
    "kernelspec": {
      "display_name": "Python 3",
      "name": "python3"
    },
    "language_info": {
      "name": "python"
    }
  },
  "nbformat": 4,
  "nbformat_minor": 0
}